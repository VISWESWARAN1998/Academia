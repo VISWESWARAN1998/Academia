{
 "cells": [
  {
   "cell_type": "code",
   "execution_count": 1,
   "metadata": {},
   "outputs": [],
   "source": [
    "# SWAMI KARUPPASWAMI THUNNAI"
   ]
  },
  {
   "cell_type": "code",
   "execution_count": 2,
   "metadata": {},
   "outputs": [
    {
     "name": "stdout",
     "output_type": "stream",
     "text": [
      "Enter your input string: HelLo World\n"
     ]
    }
   ],
   "source": [
    "string = input(\"Enter your input string: \") # get the input string from user"
   ]
  },
  {
   "cell_type": "code",
   "execution_count": 3,
   "metadata": {},
   "outputs": [],
   "source": [
    "length = len(string) # get the length of the string"
   ]
  },
  {
   "cell_type": "code",
   "execution_count": 6,
   "metadata": {},
   "outputs": [
    {
     "name": "stdout",
     "output_type": "stream",
     "text": [
      "Is the string unique?  False\n"
     ]
    }
   ],
   "source": [
    "# What does the algorith do?\n",
    "# For example take the input as: hello\n",
    "# The algorithm will take the characters linearly and compare it with other characters. for example in the first for loop\n",
    "# it will initially take \"h\" and variable \"i\" has the value 0 which is the index of first string. This index will be backlisted\n",
    "# in the second for loop and it will compare the charcters against it. For example, \"h\" at index 0 will be compared with\n",
    "# \"e\", \"l\", \"l\", \"o\" and same does for e. but when the 1st for loop reaches index 2 i.e i=2 the next for loop will omit\n",
    "# the index 2 and compare other indexes and since there is a match, the variable \"is_unique\" will be assigned False.\n",
    "index = 0\n",
    "is_unique = True\n",
    "for i in range(0, length-1):\n",
    "    current_character = string[i]\n",
    "    current_character = current_character.lower()\n",
    "    for j in range(0, length-1):\n",
    "        if i != j:\n",
    "            new_character = string[j]\n",
    "            new_character = new_character.lower()\n",
    "            if current_character == new_character:\n",
    "                is_unique = False\n",
    "                break\n",
    "print(\"Is the string unique? \", is_unique)"
   ]
  },
  {
   "cell_type": "code",
   "execution_count": null,
   "metadata": {},
   "outputs": [],
   "source": []
  }
 ],
 "metadata": {
  "kernelspec": {
   "display_name": "Python 3",
   "language": "python",
   "name": "python3"
  },
  "language_info": {
   "codemirror_mode": {
    "name": "ipython",
    "version": 3
   },
   "file_extension": ".py",
   "mimetype": "text/x-python",
   "name": "python",
   "nbconvert_exporter": "python",
   "pygments_lexer": "ipython3",
   "version": "3.6.5"
  }
 },
 "nbformat": 4,
 "nbformat_minor": 2
}
