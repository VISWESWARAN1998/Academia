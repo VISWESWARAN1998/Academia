{
 "cells": [
  {
   "cell_type": "code",
   "execution_count": 1,
   "metadata": {},
   "outputs": [
    {
     "name": "stdout",
     "output_type": "stream",
     "text": [
      "string 1: hello world\n",
      "string 2: HELLO WORLD\n"
     ]
    }
   ],
   "source": [
    "# SWAMI KARUPPASWAMI THUNNAI\n",
    "\n",
    "# Get the two strings from the user\n",
    "\n",
    "string1 = input(\"string 1: \")\n",
    "string2 = input(\"string 2: \")"
   ]
  },
  {
   "cell_type": "code",
   "execution_count": 2,
   "metadata": {},
   "outputs": [],
   "source": [
    "# Comparison is case insensitive\n",
    "string1 = string1.lower()\n",
    "string2 = string2.lower()"
   ]
  },
  {
   "cell_type": "code",
   "execution_count": 3,
   "metadata": {},
   "outputs": [],
   "source": [
    "def check_permutation():\n",
    "    # If the length of both the strings are not equal print it is not a permutation\n",
    "    if len(string1) != len(string2):\n",
    "        return False\n",
    "    else:\n",
    "        string1_chars = {}\n",
    "        for character in string1:\n",
    "            if character not in string1_chars:\n",
    "                string1_chars[character] = 1\n",
    "            else:\n",
    "                string1_chars[character] += 1\n",
    "        for character in string2:\n",
    "            if character not in string1_chars:\n",
    "                return False\n",
    "            elif string1_chars[character]==0:\n",
    "                return False\n",
    "            else:\n",
    "                string1_chars[character] -= 1\n",
    "        return True\n",
    "            \n",
    "            "
   ]
  },
  {
   "cell_type": "code",
   "execution_count": 4,
   "metadata": {},
   "outputs": [
    {
     "name": "stdout",
     "output_type": "stream",
     "text": [
      "True\n"
     ]
    }
   ],
   "source": [
    "print(check_permutation())"
   ]
  },
  {
   "cell_type": "code",
   "execution_count": null,
   "metadata": {},
   "outputs": [],
   "source": []
  }
 ],
 "metadata": {
  "kernelspec": {
   "display_name": "Python 3",
   "language": "python",
   "name": "python3"
  },
  "language_info": {
   "codemirror_mode": {
    "name": "ipython",
    "version": 3
   },
   "file_extension": ".py",
   "mimetype": "text/x-python",
   "name": "python",
   "nbconvert_exporter": "python",
   "pygments_lexer": "ipython3",
   "version": "3.6.5"
  }
 },
 "nbformat": 4,
 "nbformat_minor": 2
}
